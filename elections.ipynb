{
 "cells": [
  {
   "cell_type": "markdown",
   "metadata": {},
   "source": [
    "Below a way to compute the minimum population sufficient to elect the president of the US, solving this optimization (minimization) \n",
    "problem using Google or-tools solver to find the minimum amount of voters necessary to win 170 electoral college seats\n",
    "in the 2016 elections.\n",
    "\n",
    "source for the solver implementation:\n",
    "https://stackoverflow.com/questions/69473985/pandas-find-subset-of-rows-minimizing-the-sum-of-a-column-under-other-column-con?noredirect=1&lq=1"
   ]
  },
  {
   "cell_type": "code",
   "execution_count": 1,
   "metadata": {},
   "outputs": [],
   "source": [
    "import pandas as pd\n",
    "import numpy as np\n",
    "from itertools import combinations, chain"
   ]
  },
  {
   "cell_type": "code",
   "execution_count": 2,
   "metadata": {},
   "outputs": [],
   "source": [
    "#load data\n",
    "els = pd.read_excel('elections.xlsx')"
   ]
  },
  {
   "cell_type": "code",
   "execution_count": 3,
   "metadata": {},
   "outputs": [
    {
     "name": "stdout",
     "output_type": "stream",
     "text": [
      "Wall time: 953 ms\n"
     ]
    }
   ],
   "source": [
    "%%time\n",
    "\n",
    "#implement solution\n",
    "\n",
    "# Google or-tools solver\n",
    "from ortools.sat.python import cp_model\n",
    "\n",
    "import timeit\n",
    "\n",
    "def solve(df, threshold):\n",
    "    '''\n",
    "    Uses or-tools module to solve optimization\n",
    "\n",
    "    '''\n",
    "    weights = df['Target']\n",
    "    cost = df['Cost']\n",
    "    names = df['Names']\n",
    "\n",
    "    # Creates the model.\n",
    "    model = cp_model.CpModel()\n",
    "\n",
    "    # Step 1: Create the variables\n",
    "    # array containing row selection flags i.e. True if row k is selected, False otherwise\n",
    "    # Note: treated as 1/0 in arithmeetic expressions\n",
    "    row_selection = [model.NewBoolVar(f'{i}') for i in range(df.shape[0])]\n",
    "\n",
    "    # Step 2: Define the constraints\n",
    "    # The sum of the weights for the selected rows should be >= threshold\n",
    "    model.Add(weights.dot(row_selection) >= threshold)\n",
    "\n",
    "    # Step 3: Define the objective function\n",
    "    # Minimize the total cost (based upon rows selected)\n",
    "    model.Minimize(cost.dot(row_selection))\n",
    "\n",
    "    # Step 4: Creates the solver and solve.\n",
    "    solver = cp_model.CpSolver()\n",
    "    solver.Solve(model)\n",
    "\n",
    "    # Get the rows selected\n",
    "    rows = [row for row in range(df.shape[0]) if solver.Value(row_selection[row])]\n",
    "\n",
    "    return names[rows]\n",
    "\n",
    "\n",
    "# Setup\n",
    "df = els.copy().rename(columns={'State':'Names', 'Population':'Cost', 'EC':'Target'})"
   ]
  },
  {
   "cell_type": "code",
   "execution_count": 4,
   "metadata": {},
   "outputs": [],
   "source": [
    "#sum of EC seats in solution\n",
    "ecs = df[df['Names'].isin(solve(df, 270))]['Target'].sum()\n",
    "\n",
    "#sum of population in solution\n",
    "pop = df[df['Names'].isin(solve(df, 270))]['Cost'].sum()\n",
    "\n",
    "#percentage of population represented by solution\n",
    "share = df[df['Names'].isin(solve(df, 270))]['Cost'].sum() / df['Cost'].sum()\n",
    "\n",
    "#electoral colleges in solution\n",
    "ec = solve(df, 270)"
   ]
  },
  {
   "cell_type": "code",
   "execution_count": 5,
   "metadata": {},
   "outputs": [
    {
     "name": "stdout",
     "output_type": "stream",
     "text": [
      "Summary of optimization model solution: \n",
      "Electoral college seats:  270\n",
      "Voters:  134737835\n",
      "Voters out of total population:  0.44\n",
      "Electoral colleges: \n",
      " 0            Wyoming\n",
      "1               D.C.\n",
      "2            Vermont\n",
      "3       North Dakota\n",
      "4             Alaska\n",
      "5       South Dakota\n",
      "6           Delaware\n",
      "7            Montana\n",
      "8       Rhode Island\n",
      "9      New Hampshire\n",
      "10             Maine\n",
      "11            Hawaii\n",
      "12             Idaho\n",
      "13          Nebraska\n",
      "14     West Virginia\n",
      "15        New Mexico\n",
      "16            Nevada\n",
      "17              Utah\n",
      "18            Kansas\n",
      "19          Arkansas\n",
      "20       Mississippi\n",
      "21              Iowa\n",
      "22       Connecticut\n",
      "23          Oklahoma\n",
      "24            Oregon\n",
      "25          Kentucky\n",
      "26         Louisiana\n",
      "27    South Carolina\n",
      "28           Alabama\n",
      "29          Colorado\n",
      "30         Minnesota\n",
      "31         Wisconsin\n",
      "32          Maryland\n",
      "33          Missouri\n",
      "34         Tennessee\n",
      "35           Arizona\n",
      "36           Indiana\n",
      "37     Massachusetts\n",
      "38        Washington\n",
      "41    North Carolina\n",
      "Name: Names, dtype: object\n"
     ]
    }
   ],
   "source": [
    "print('Summary of optimization model solution: ')\n",
    "print('Electoral college seats: ', ecs)\n",
    "print('Voters: ', pop)\n",
    "print('Voters out of total population: ', round(share, 2))\n",
    "print('Electoral colleges: \\n', ec)"
   ]
  },
  {
   "cell_type": "raw",
   "metadata": {},
   "source": [
    "Exhaustive solver solution. Discarded because computation time too long\n",
    "\n",
    "%%time\n",
    "\n",
    "def powerset(iterable):\n",
    "    \"powerset([1,2,3]) --> () (1,) (2,) (3,) (1,2) (1,3) (2,3) (1,2,3)\"\n",
    "    s = list(iterable)\n",
    "    return chain.from_iterable(combinations(s, r) for r in range(len(s) + 1))\n",
    "\n",
    "\n",
    "df_out = min(\n",
    "    (\n",
    "        df.loc[list(i)]\n",
    "        for i in powerset(df.index)\n",
    "        if df.loc[list(i), \"Target\"].sum() >= 40\n",
    "    ),\n",
    "    key=lambda x: x[\"Cost\"].sum(),\n",
    ")\n",
    "\n",
    "df_out\n"
   ]
  }
 ],
 "metadata": {
  "kernelspec": {
   "display_name": "Python 3 (ipykernel)",
   "language": "python",
   "name": "python3"
  },
  "language_info": {
   "codemirror_mode": {
    "name": "ipython",
    "version": 3
   },
   "file_extension": ".py",
   "mimetype": "text/x-python",
   "name": "python",
   "nbconvert_exporter": "python",
   "pygments_lexer": "ipython3",
   "version": "3.9.7"
  }
 },
 "nbformat": 4,
 "nbformat_minor": 4
}
